{
 "cells": [
  {
   "cell_type": "markdown",
   "id": "b85d1ed4",
   "metadata": {},
   "source": [
    "## Assignment 03: Retrieve CSO Exchequer Account Dataset\n",
    "\n",
    "***\n",
    "\n",
    "This notebook downloads the \"Exchequer Account (Historical Series)\" dataset from the Central Statistics Office (CSO) \n",
    "\n",
    "and saves it as a JSON file named `cso.json`.\n"
   ]
  },
  {
   "cell_type": "markdown",
   "id": "2e15231e",
   "metadata": {},
   "source": [
    "### Required Libraries\n",
    "\n",
    "***"
   ]
  },
  {
   "cell_type": "code",
   "execution_count": 1,
   "id": "e24d15ad",
   "metadata": {},
   "outputs": [],
   "source": [
    "import requests\n",
    "import json"
   ]
  }
 ],
 "metadata": {
  "kernelspec": {
   "display_name": "base",
   "language": "python",
   "name": "python3"
  },
  "language_info": {
   "codemirror_mode": {
    "name": "ipython",
    "version": 3
   },
   "file_extension": ".py",
   "mimetype": "text/x-python",
   "name": "python",
   "nbconvert_exporter": "python",
   "pygments_lexer": "ipython3",
   "version": "3.12.4"
  }
 },
 "nbformat": 4,
 "nbformat_minor": 5
}

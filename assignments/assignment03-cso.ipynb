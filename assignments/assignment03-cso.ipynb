{
 "cells": [
  {
   "cell_type": "markdown",
   "id": "b85d1ed4",
   "metadata": {},
   "source": [
    "# Assignment 03: Retrieve CSO Exchequer Account Dataset\n",
    "\n",
    "This notebook downloads the \"Exchequer Account (Historical Series)\" dataset from the Central Statistics Office (CSO) \n",
    "\n",
    "and saves it as a JSON file named `cso.json`.\n"
   ]
  }
 ],
 "metadata": {
  "language_info": {
   "name": "python"
  }
 },
 "nbformat": 4,
 "nbformat_minor": 5
}

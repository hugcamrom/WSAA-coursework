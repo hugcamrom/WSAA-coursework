{
 "cells": [
  {
   "cell_type": "markdown",
   "id": "b85d1ed4",
   "metadata": {},
   "source": [
    "## Assignment 03: Retrieve CSO Exchequer Account Dataset\n",
    "\n",
    "***\n",
    "\n",
    "This notebook downloads the \"Exchequer Account (Historical Series)\" dataset from the Central Statistics Office (CSO) \n",
    "\n",
    "and saves it as a JSON file named `cso.json`.\n",
    "\n",
    "\n",
    "\n",
    "\n"
   ]
  },
  {
   "cell_type": "markdown",
   "id": "2e15231e",
   "metadata": {},
   "source": [
    "\n",
    "\n",
    "### Required Libraries\n",
    "\n",
    "***\n",
    "\n"
   ]
  },
  {
   "cell_type": "code",
   "execution_count": 2,
   "id": "e24d15ad",
   "metadata": {},
   "outputs": [],
   "source": [
    "import requests\n",
    "import json"
   ]
  },
  {
   "cell_type": "markdown",
   "id": "423d1546",
   "metadata": {},
   "source": [
    "\n",
    "\n",
    "### Define the URL\n",
    "\n",
    "***\n",
    "\n"
   ]
  },
  {
   "cell_type": "code",
   "execution_count": 3,
   "id": "5ab207d1",
   "metadata": {},
   "outputs": [],
   "source": [
    "url = \"https://ws.cso.ie/public/api.restful/PxStat.Data.Cube_API.ReadDataset/FIQ02/JSON-stat/2.0/en\"\n"
   ]
  },
  {
   "cell_type": "markdown",
   "id": "2fb8d970",
   "metadata": {},
   "source": [
    "\n",
    "\n",
    "\n",
    "### Download and save JSON\n",
    "\n",
    "***\n",
    "\n"
   ]
  },
  {
   "cell_type": "code",
   "execution_count": 4,
   "id": "2d295beb",
   "metadata": {},
   "outputs": [],
   "source": [
    "response = requests.get(url)\n",
    "data = response.json()\n",
    "\n",
    "with open(\"cso.json\", \"w\") as f:\n",
    "    json.dump(data, f, indent=4)\n"
   ]
  },
  {
   "cell_type": "markdown",
   "id": "7ab30102",
   "metadata": {},
   "source": [
    "\n",
    "\n",
    "\n",
    "#### End\n",
    "\n",
    "***"
   ]
  }
 ],
 "metadata": {
  "kernelspec": {
   "display_name": "base",
   "language": "python",
   "name": "python3"
  },
  "language_info": {
   "codemirror_mode": {
    "name": "ipython",
    "version": 3
   },
   "file_extension": ".py",
   "mimetype": "text/x-python",
   "name": "python",
   "nbconvert_exporter": "python",
   "pygments_lexer": "ipython3",
   "version": "3.12.4"
  }
 },
 "nbformat": 4,
 "nbformat_minor": 5
}

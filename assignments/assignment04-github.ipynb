{
 "cells": [
  {
   "cell_type": "code",
   "execution_count": 2,
   "id": "9a875091",
   "metadata": {},
   "outputs": [
    {
     "name": "stdout",
     "output_type": "stream",
     "text": [
      "✅ Notebook is valid.\n"
     ]
    }
   ],
   "source": [
    "import nbformat\n",
    "\n",
    "try:\n",
    "    nb = nbformat.read(\"assignment04-github.ipynb\", as_version=4)\n",
    "    print(\"✅ Notebook is valid.\")\n",
    "except Exception as e:\n",
    "    print(\"❌ Notebook is invalid.\")\n",
    "    print(\"Error details:\", e)\n"
   ]
  }
 ],
 "metadata": {
  "kernelspec": {
   "display_name": "base",
   "language": "python",
   "name": "python3"
  },
  "language_info": {
   "codemirror_mode": {
    "name": "ipython",
    "version": 3
   },
   "file_extension": ".py",
   "mimetype": "text/x-python",
   "name": "python",
   "nbconvert_exporter": "python",
   "pygments_lexer": "ipython3",
   "version": "3.12.4"
  }
 },
 "nbformat": 4,
 "nbformat_minor": 5
}

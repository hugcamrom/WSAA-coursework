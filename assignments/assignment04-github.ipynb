{
 "cells": [
  {
   "cell_type": "markdown",
   "id": "4af4d40b",
   "metadata": {},
   "source": [
    "## Assignment 04: Modify and Push a File to GitHub\n",
    "\n",
    "\n",
    "\n",
    "This notebook reads a file from the local GitHub repo, replaces all instances of the name \"Andrew\" with my name, \n",
    "\n",
    "and then commits and pushes the changes back to the repository.\n",
    "\n",
    "\n",
    "***\n"
   ]
  }
 ],
 "metadata": {
  "kernelspec": {
   "display_name": "base",
   "language": "python",
   "name": "python3"
  },
  "language_info": {
   "codemirror_mode": {
    "name": "ipython",
    "version": 3
   },
   "file_extension": ".py",
   "mimetype": "text/x-python",
   "name": "python",
   "nbconvert_exporter": "python",
   "pygments_lexer": "ipython3",
   "version": "3.12.4"
  }
 },
 "nbformat": 4,
 "nbformat_minor": 5
}

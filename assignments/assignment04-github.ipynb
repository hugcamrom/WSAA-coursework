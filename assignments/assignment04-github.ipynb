{
 "cells": [
  {
   "cell_type": "markdown",
   "id": "4af4d40b",
   "metadata": {},
   "source": [
    "## Assignment 04: Modify and Push a File to GitHub\n",
    "\n",
    "\n",
    "\n",
    "This notebook reads a file from the local GitHub repo, replaces all instances of the name \"Andrew\" with my name, \n",
    "\n",
    "and then commits and pushes the changes back to the repository.\n",
    "\n",
    "\n",
    "***\n"
   ]
  },
  {
   "cell_type": "markdown",
   "id": "8a00a3e4",
   "metadata": {},
   "source": [
    "\n",
    "\n",
    "### Libraries\n",
    "\n",
    "***\n",
    "\n",
    "\n"
   ]
  },
  {
   "cell_type": "code",
   "execution_count": 1,
   "id": "f4a80b21",
   "metadata": {},
   "outputs": [],
   "source": [
    "import os\n",
    "import subprocess\n"
   ]
  },
  {
   "cell_type": "markdown",
   "id": "70e5ab08",
   "metadata": {},
   "source": [
    "### Full Plan for Assignment 04 (Dummy Version)\n",
    "\n",
    "***\n"
   ]
  },
  {
   "cell_type": "markdown",
   "id": "08bf0614",
   "metadata": {},
   "source": [
    "#### 1: Create a Dummy File\n"
   ]
  },
  {
   "cell_type": "code",
   "execution_count": 3,
   "id": "9b009002",
   "metadata": {},
   "outputs": [
    {
     "name": "stdout",
     "output_type": "stream",
     "text": [
      "Dummy file created at assignments/dummyfile.txt\n"
     ]
    }
   ],
   "source": [
    "import os\n",
    "\n",
    "# Make sure the assignments folder exists\n",
    "os.makedirs(\"assignments\", exist_ok=True)\n",
    "\n",
    "# Create the dummy file inside the assignments folder\n",
    "dummy_file_path = \"assignments/dummyfile.txt\"\n",
    "\n",
    "dummy_text = \"\"\"\n",
    "Hello Andrew, welcome to the WSAA coursework.\n",
    "Andrew is learning about APIs and GitHub automation.\n",
    "Good luck Andrew!\n",
    "\"\"\"\n",
    "\n",
    "# Save the dummy file\n",
    "with open(dummy_file_path, \"w\") as file:\n",
    "    file.write(dummy_text)\n",
    "\n",
    "print(f\"Dummy file created at {dummy_file_path}\")\n"
   ]
  },
  {
   "cell_type": "markdown",
   "id": "f49c6b25",
   "metadata": {},
   "source": [
    "#### 2: Replace \"Andrew\" with Your Name\n"
   ]
  },
  {
   "cell_type": "code",
   "execution_count": 4,
   "id": "da095cb1",
   "metadata": {},
   "outputs": [
    {
     "name": "stdout",
     "output_type": "stream",
     "text": [
      "All occurrences of 'Andrew' replaced with your name.\n"
     ]
    }
   ],
   "source": [
    "# Read and replace in the dummy file\n",
    "with open(dummy_file_path, \"r\") as file:\n",
    "    content = file.read()\n",
    "\n",
    "# Replace \"Andrew\" with your name\n",
    "your_name = \"Hugo\"  # <- put your real name here\n",
    "updated_content = content.replace(\"Andrew\", your_name)\n",
    "\n",
    "# Save the updated content back to the file\n",
    "with open(dummy_file_path, \"w\") as file:\n",
    "    file.write(updated_content)\n",
    "\n",
    "print(\"All occurrences of 'Andrew' replaced with your name.\")\n"
   ]
  },
  {
   "cell_type": "markdown",
   "id": "86c7991a",
   "metadata": {},
   "source": [
    "#### 3: Stage and Commit the Changes\n"
   ]
  },
  {
   "cell_type": "code",
   "execution_count": 5,
   "id": "7da3fe71",
   "metadata": {},
   "outputs": [
    {
     "data": {
      "text/plain": [
       "CompletedProcess(args=['git', 'commit', '-m', \"Replaced 'Andrew' with my name in dummy file.\"], returncode=0)"
      ]
     },
     "execution_count": 5,
     "metadata": {},
     "output_type": "execute_result"
    }
   ],
   "source": [
    "import subprocess\n",
    "\n",
    "# Stage the file\n",
    "subprocess.run([\"git\", \"add\", dummy_file_path])\n",
    "\n",
    "# Commit the change\n",
    "subprocess.run([\"git\", \"commit\", \"-m\", \"Replaced 'Andrew' with my name in dummy file.\"])\n"
   ]
  },
  {
   "cell_type": "markdown",
   "id": "13d6297c",
   "metadata": {},
   "source": [
    "####  4: Push the Changes to GitHub\n"
   ]
  },
  {
   "cell_type": "code",
   "execution_count": 7,
   "id": "e5815df3",
   "metadata": {},
   "outputs": [
    {
     "data": {
      "text/plain": [
       "CompletedProcess(args=['git', 'push'], returncode=0)"
      ]
     },
     "execution_count": 7,
     "metadata": {},
     "output_type": "execute_result"
    }
   ],
   "source": [
    "# Push to GitHub\n",
    "subprocess.run([\"git\", \"push\"])\n"
   ]
  },
  {
   "cell_type": "markdown",
   "id": "c665977c",
   "metadata": {},
   "source": [
    "####  Delete the Dummy File and Push the Deletion to GitHub\n",
    "\n",
    "***"
   ]
  },
  {
   "cell_type": "markdown",
   "id": "6ddc6798",
   "metadata": {},
   "source": [
    "#### 1: Delete the dummy file locally\n"
   ]
  },
  {
   "cell_type": "code",
   "execution_count": 8,
   "id": "39990a62",
   "metadata": {},
   "outputs": [
    {
     "name": "stdout",
     "output_type": "stream",
     "text": [
      "assignments/dummyfile.txt has been deleted.\n"
     ]
    }
   ],
   "source": [
    "import os\n",
    "\n",
    "# Delete the dummy file\n",
    "dummy_file_path = \"assignments/dummyfile.txt\"\n",
    "\n",
    "if os.path.exists(dummy_file_path):\n",
    "    os.remove(dummy_file_path)\n",
    "    print(f\"{dummy_file_path} has been deleted.\")\n",
    "else:\n",
    "    print(f\"{dummy_file_path} does not exist.\")\n"
   ]
  },
  {
   "cell_type": "markdown",
   "id": "6d690554",
   "metadata": {},
   "source": [
    "#### 2: Stage the deletion with Git"
   ]
  },
  {
   "cell_type": "code",
   "execution_count": 9,
   "id": "47480273",
   "metadata": {},
   "outputs": [
    {
     "data": {
      "text/plain": [
       "CompletedProcess(args=['git', 'rm', 'assignments/dummyfile.txt'], returncode=0)"
      ]
     },
     "execution_count": 9,
     "metadata": {},
     "output_type": "execute_result"
    }
   ],
   "source": [
    "import subprocess\n",
    "\n",
    "# Tell Git the file was removed\n",
    "subprocess.run([\"git\", \"rm\", dummy_file_path])\n"
   ]
  },
  {
   "cell_type": "markdown",
   "id": "5a46a906",
   "metadata": {},
   "source": [
    "#### 3: Commit the deletion"
   ]
  },
  {
   "cell_type": "code",
   "execution_count": 10,
   "id": "39343b9d",
   "metadata": {},
   "outputs": [
    {
     "name": "stdout",
     "output_type": "stream",
     "text": [
      "Changes pushed to GitHub.\n"
     ]
    }
   ],
   "source": [
    "# Commit the removal\n",
    "subprocess.run([\"git\", \"commit\", \"-m\", \"Deleted dummyfile.txt after testing.\"])\n",
    "# Push the changes to GitHub\n",
    "subprocess.run([\"git\", \"push\"])\n",
    "print(\"Changes pushed to GitHub.\")"
   ]
  },
  {
   "cell_type": "markdown",
   "id": "0e259134",
   "metadata": {},
   "source": [
    "#### 4: Push the deletion to GitHub\n"
   ]
  },
  {
   "cell_type": "code",
   "execution_count": 11,
   "id": "faf8e3e2",
   "metadata": {},
   "outputs": [
    {
     "name": "stdout",
     "output_type": "stream",
     "text": [
      "Changes pushed to GitHub.\n"
     ]
    }
   ],
   "source": [
    "# Push the changes\n",
    "subprocess.run([\"git\", \"push\"])\n",
    "print(\"Changes pushed to GitHub.\")\n",
    "\n"
   ]
  }
 ],
 "metadata": {
  "kernelspec": {
   "display_name": "base",
   "language": "python",
   "name": "python3"
  },
  "language_info": {
   "codemirror_mode": {
    "name": "ipython",
    "version": 3
   },
   "file_extension": ".py",
   "mimetype": "text/x-python",
   "name": "python",
   "nbconvert_exporter": "python",
   "pygments_lexer": "ipython3",
   "version": "3.12.4"
  }
 },
 "nbformat": 4,
 "nbformat_minor": 5
}

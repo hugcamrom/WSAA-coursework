{
 "cells": [
  {
   "cell_type": "markdown",
   "id": "594c6fa1",
   "metadata": {},
   "source": [
    "\n",
    "# Assignment 02: Deal Cards using Deck of Cards API\n",
    "\n",
    "This notebook uses the [Deck of Cards API](https://deckofcardsapi.com/) to simulate shuffling and drawing a hand of 5 playing cards. \n",
    "It then prints the cards and checks for common poker hand patterns such as pairs, three-of-a-kind, straight, or all cards of the same suit.\n",
    "\n",
    "***\n"
   ]
  },
  {
   "cell_type": "markdown",
   "id": "f5a5e8f8",
   "metadata": {},
   "source": [
    "### Import necessary libraries"
   ]
  },
  {
   "cell_type": "code",
   "execution_count": 1,
   "id": "2c4be141",
   "metadata": {},
   "outputs": [],
   "source": [
    "import requests\n",
    "from collections import Counter\n"
   ]
  },
  {
   "cell_type": "markdown",
   "id": "d5e0d2eb",
   "metadata": {},
   "source": [
    "### Shuffle a New Deck"
   ]
  },
  {
   "cell_type": "code",
   "execution_count": 2,
   "id": "194d9d4e",
   "metadata": {},
   "outputs": [
    {
     "name": "stdout",
     "output_type": "stream",
     "text": [
      "Deck ID: 7s9icky2wse3\n"
     ]
    }
   ],
   "source": [
    "shuffle_url = \"https://deckofcardsapi.com/api/deck/new/shuffle/?deck_count=1\"\n",
    "response = requests.get(shuffle_url)\n",
    "deck = response.json()\n",
    "\n",
    "deck_id = deck['deck_id']\n",
    "print(\"Deck ID:\", deck_id)\n"
   ]
  },
  {
   "cell_type": "markdown",
   "id": "9bd72ab8",
   "metadata": {},
   "source": [
    "### Draw 5 Cards"
   ]
  },
  {
   "cell_type": "code",
   "execution_count": 5,
   "id": "160038c7",
   "metadata": {},
   "outputs": [],
   "source": [
    "draw_url = f\"https://deckofcardsapi.com/api/deck/{deck_id}/draw/?count=5\"\n",
    "response = requests.get(draw_url)\n",
    "cards_data = response.json()\n",
    "\n",
    "cards = cards_data['cards']\n"
   ]
  },
  {
   "cell_type": "markdown",
   "id": "18674f7b",
   "metadata": {},
   "source": [
    "### Display the Cards"
   ]
  },
  {
   "cell_type": "code",
   "execution_count": 6,
   "id": "43e321f8",
   "metadata": {},
   "outputs": [
    {
     "name": "stdout",
     "output_type": "stream",
     "text": [
      "Your 5 cards:\n",
      "7 of CLUBS\n",
      "9 of SPADES\n",
      "8 of HEARTS\n",
      "QUEEN of HEARTS\n",
      "JACK of DIAMONDS\n"
     ]
    }
   ],
   "source": [
    "print(\"Your 5 cards:\")\n",
    "for card in cards:\n",
    "    print(f\"{card['value']} of {card['suit']}\")\n"
   ]
  },
  {
   "cell_type": "markdown",
   "id": "f45de05d",
   "metadata": {},
   "source": [
    "### Analyze the Hand"
   ]
  },
  {
   "cell_type": "code",
   "execution_count": 8,
   "id": "d3cca3f2",
   "metadata": {},
   "outputs": [],
   "source": [
    "# Convert face cards to numbers using map only (no fallback)\n",
    "value_map = {\n",
    "    'ACE': 14, 'KING': 13, 'QUEEN': 12, 'JACK': 11,\n",
    "    '10': 10, '9': 9, '8': 8, '7': 7, '6': 6,\n",
    "    '5': 5, '4': 4, '3': 3, '2': 2\n",
    "}\n",
    "\n",
    "numeric_values = sorted([value_map[v] for v in values])\n"
   ]
  },
  {
   "cell_type": "markdown",
   "id": "c71021da",
   "metadata": {},
   "source": [
    "###Check for Hand Types and Print Results"
   ]
  },
  {
   "cell_type": "code",
   "execution_count": 9,
   "id": "bff1e24f",
   "metadata": {},
   "outputs": [
    {
     "name": "stdout",
     "output_type": "stream",
     "text": [
      "\n",
      "Hand Analysis:\n",
      "No special hand this time.\n"
     ]
    }
   ],
   "source": [
    "value_counts = Counter(values)\n",
    "suit_counts = Counter(suits)\n",
    "\n",
    "has_pair = 2 in value_counts.values()\n",
    "has_three = 3 in value_counts.values()\n",
    "has_four = 4 in value_counts.values()\n",
    "all_same_suit = len(suit_counts) == 1\n",
    "\n",
    "# Check for straight\n",
    "is_straight = all(numeric_values[i] - numeric_values[i - 1] == 1 for i in range(1, 5))\n",
    "\n",
    "print(\"\\nHand Analysis:\")\n",
    "if has_four:\n",
    "    print(\"You got Four of a Kind!\")\n",
    "elif has_three and has_pair:\n",
    "    print(\"You got a Full House!\")\n",
    "elif has_three:\n",
    "    print(\"You got Three of a Kind!\")\n",
    "elif list(value_counts.values()).count(2) == 2:\n",
    "    print(\"You got Two Pairs!\")\n",
    "elif has_pair:\n",
    "    print(\"You got a Pair!\")\n",
    "elif is_straight:\n",
    "    print(\"You got a Straight!\")\n",
    "elif all_same_suit:\n",
    "    print(\"All cards are of the same suit!\")\n",
    "else:\n",
    "    print(\"No special hand this time.\")\n"
   ]
  }
 ],
 "metadata": {
  "kernelspec": {
   "display_name": "base",
   "language": "python",
   "name": "python3"
  },
  "language_info": {
   "codemirror_mode": {
    "name": "ipython",
    "version": 3
   },
   "file_extension": ".py",
   "mimetype": "text/x-python",
   "name": "python",
   "nbconvert_exporter": "python",
   "pygments_lexer": "ipython3",
   "version": "3.12.4"
  }
 },
 "nbformat": 4,
 "nbformat_minor": 5
}
